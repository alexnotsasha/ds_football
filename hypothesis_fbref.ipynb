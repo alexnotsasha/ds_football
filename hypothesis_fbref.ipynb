{
 "cells": [
  {
   "cell_type": "markdown",
   "id": "b38063dc",
   "metadata": {},
   "source": [
    "Данная часть работы посвящена построению гипотез и их проверке. Загрузим заново табличку и все необходимые библиотеки."
   ]
  },
  {
   "cell_type": "code",
   "execution_count": null,
   "id": "f718d0ea",
   "metadata": {},
   "outputs": [],
   "source": [
    "import pandas as pd\n",
    "import numpy as np\n",
    "from scipy import stats\n",
    "import statsmodels as sts \n",
    "import matplotlib.pyplot as plt"
   ]
  },
  {
   "cell_type": "code",
   "execution_count": 38,
   "id": "80284051",
   "metadata": {
    "scrolled": true
   },
   "outputs": [
    {
     "data": {
      "text/html": [
       "<div>\n",
       "<style scoped>\n",
       "    .dataframe tbody tr th:only-of-type {\n",
       "        vertical-align: middle;\n",
       "    }\n",
       "\n",
       "    .dataframe tbody tr th {\n",
       "        vertical-align: top;\n",
       "    }\n",
       "\n",
       "    .dataframe thead th {\n",
       "        text-align: right;\n",
       "    }\n",
       "</style>\n",
       "<table border=\"1\" class=\"dataframe\">\n",
       "  <thead>\n",
       "    <tr style=\"text-align: right;\">\n",
       "      <th></th>\n",
       "      <th>Unnamed: 0</th>\n",
       "      <th>Rk</th>\n",
       "      <th>Squad</th>\n",
       "      <th>MP</th>\n",
       "      <th>W (per game)</th>\n",
       "      <th>D (per game)</th>\n",
       "      <th>L (per game)</th>\n",
       "      <th>GA (per game)</th>\n",
       "      <th>GD (per game)</th>\n",
       "      <th>Pts/MP</th>\n",
       "      <th>...</th>\n",
       "      <th>Performance: OG</th>\n",
       "      <th>Performance: Recov (per game)</th>\n",
       "      <th>Aerial Duels: Won (per game)</th>\n",
       "      <th>Aerial Duels: Won%</th>\n",
       "      <th>Int (per game)</th>\n",
       "      <th>Tkl+Int (per game)</th>\n",
       "      <th>Clr (per game)</th>\n",
       "      <th>Err (per game)</th>\n",
       "      <th>League</th>\n",
       "      <th>Relegated</th>\n",
       "    </tr>\n",
       "  </thead>\n",
       "  <tbody>\n",
       "    <tr>\n",
       "      <th>0</th>\n",
       "      <td>0</td>\n",
       "      <td>1</td>\n",
       "      <td>Manchester City</td>\n",
       "      <td>38</td>\n",
       "      <td>0.74</td>\n",
       "      <td>0.13</td>\n",
       "      <td>0.13</td>\n",
       "      <td>0.87</td>\n",
       "      <td>1.61</td>\n",
       "      <td>2.34</td>\n",
       "      <td>...</td>\n",
       "      <td>1</td>\n",
       "      <td>49.11</td>\n",
       "      <td>11.53</td>\n",
       "      <td>54.6</td>\n",
       "      <td>5.87</td>\n",
       "      <td>18.26</td>\n",
       "      <td>10.58</td>\n",
       "      <td>0.21</td>\n",
       "      <td>Premier League</td>\n",
       "      <td>0</td>\n",
       "    </tr>\n",
       "    <tr>\n",
       "      <th>1</th>\n",
       "      <td>1</td>\n",
       "      <td>2</td>\n",
       "      <td>Arsenal</td>\n",
       "      <td>38</td>\n",
       "      <td>0.68</td>\n",
       "      <td>0.16</td>\n",
       "      <td>0.16</td>\n",
       "      <td>1.13</td>\n",
       "      <td>1.18</td>\n",
       "      <td>2.21</td>\n",
       "      <td>...</td>\n",
       "      <td>1</td>\n",
       "      <td>52.21</td>\n",
       "      <td>12.79</td>\n",
       "      <td>46.5</td>\n",
       "      <td>6.24</td>\n",
       "      <td>21.18</td>\n",
       "      <td>15.76</td>\n",
       "      <td>0.58</td>\n",
       "      <td>Premier League</td>\n",
       "      <td>0</td>\n",
       "    </tr>\n",
       "    <tr>\n",
       "      <th>2</th>\n",
       "      <td>2</td>\n",
       "      <td>3</td>\n",
       "      <td>Manchester Utd</td>\n",
       "      <td>38</td>\n",
       "      <td>0.61</td>\n",
       "      <td>0.16</td>\n",
       "      <td>0.24</td>\n",
       "      <td>1.13</td>\n",
       "      <td>0.39</td>\n",
       "      <td>1.97</td>\n",
       "      <td>...</td>\n",
       "      <td>1</td>\n",
       "      <td>57.63</td>\n",
       "      <td>12.24</td>\n",
       "      <td>51.7</td>\n",
       "      <td>9.26</td>\n",
       "      <td>26.58</td>\n",
       "      <td>20.29</td>\n",
       "      <td>0.26</td>\n",
       "      <td>Premier League</td>\n",
       "      <td>0</td>\n",
       "    </tr>\n",
       "    <tr>\n",
       "      <th>3</th>\n",
       "      <td>3</td>\n",
       "      <td>4</td>\n",
       "      <td>Newcastle Utd</td>\n",
       "      <td>38</td>\n",
       "      <td>0.50</td>\n",
       "      <td>0.37</td>\n",
       "      <td>0.13</td>\n",
       "      <td>0.87</td>\n",
       "      <td>0.92</td>\n",
       "      <td>1.87</td>\n",
       "      <td>...</td>\n",
       "      <td>2</td>\n",
       "      <td>54.34</td>\n",
       "      <td>14.55</td>\n",
       "      <td>56.4</td>\n",
       "      <td>8.76</td>\n",
       "      <td>24.74</td>\n",
       "      <td>17.89</td>\n",
       "      <td>0.26</td>\n",
       "      <td>Premier League</td>\n",
       "      <td>0</td>\n",
       "    </tr>\n",
       "    <tr>\n",
       "      <th>4</th>\n",
       "      <td>4</td>\n",
       "      <td>5</td>\n",
       "      <td>Liverpool</td>\n",
       "      <td>38</td>\n",
       "      <td>0.50</td>\n",
       "      <td>0.26</td>\n",
       "      <td>0.24</td>\n",
       "      <td>1.24</td>\n",
       "      <td>0.74</td>\n",
       "      <td>1.76</td>\n",
       "      <td>...</td>\n",
       "      <td>2</td>\n",
       "      <td>58.18</td>\n",
       "      <td>12.68</td>\n",
       "      <td>51.4</td>\n",
       "      <td>8.76</td>\n",
       "      <td>24.29</td>\n",
       "      <td>14.95</td>\n",
       "      <td>0.50</td>\n",
       "      <td>Premier League</td>\n",
       "      <td>0</td>\n",
       "    </tr>\n",
       "  </tbody>\n",
       "</table>\n",
       "<p>5 rows × 142 columns</p>\n",
       "</div>"
      ],
      "text/plain": [
       "   Unnamed: 0  Rk            Squad  MP  W (per game)  D (per game)  \\\n",
       "0           0   1  Manchester City  38          0.74          0.13   \n",
       "1           1   2          Arsenal  38          0.68          0.16   \n",
       "2           2   3   Manchester Utd  38          0.61          0.16   \n",
       "3           3   4    Newcastle Utd  38          0.50          0.37   \n",
       "4           4   5        Liverpool  38          0.50          0.26   \n",
       "\n",
       "   L (per game)  GA (per game)  GD (per game)  Pts/MP  ...  Performance: OG  \\\n",
       "0          0.13           0.87           1.61    2.34  ...                1   \n",
       "1          0.16           1.13           1.18    2.21  ...                1   \n",
       "2          0.24           1.13           0.39    1.97  ...                1   \n",
       "3          0.13           0.87           0.92    1.87  ...                2   \n",
       "4          0.24           1.24           0.74    1.76  ...                2   \n",
       "\n",
       "   Performance: Recov (per game)  Aerial Duels: Won (per game)  \\\n",
       "0                          49.11                         11.53   \n",
       "1                          52.21                         12.79   \n",
       "2                          57.63                         12.24   \n",
       "3                          54.34                         14.55   \n",
       "4                          58.18                         12.68   \n",
       "\n",
       "   Aerial Duels: Won% Int (per game)  Tkl+Int (per game)  Clr (per game)  \\\n",
       "0                54.6           5.87               18.26           10.58   \n",
       "1                46.5           6.24               21.18           15.76   \n",
       "2                51.7           9.26               26.58           20.29   \n",
       "3                56.4           8.76               24.74           17.89   \n",
       "4                51.4           8.76               24.29           14.95   \n",
       "\n",
       "   Err (per game)          League  Relegated  \n",
       "0            0.21  Premier League          0  \n",
       "1            0.58  Premier League          0  \n",
       "2            0.26  Premier League          0  \n",
       "3            0.26  Premier League          0  \n",
       "4            0.50  Premier League          0  \n",
       "\n",
       "[5 rows x 142 columns]"
      ]
     },
     "execution_count": 38,
     "metadata": {},
     "output_type": "execute_result"
    }
   ],
   "source": [
    "df=pd.read_csv('final_football_file.csv')\n",
    "df.head(5)"
   ]
  },
  {
   "cell_type": "markdown",
   "id": "d17c4d78",
   "metadata": {},
   "source": [
    "Хотелось бы проверить, как ковид повлиял на посещаемость футбольных матчей - увеличилось ли количество интересующихся или же люди,наоборот, начали смотреть матчи онлайн и перестали ходить на них очно. В связи с этим было выдвинуто 2 гипотезы:"
   ]
  },
  {
   "cell_type": "markdown",
   "id": "650e80a6",
   "metadata": {},
   "source": [
    "__Наши гипотезы:__\n",
    "<br>_1):_</br>\n",
    "- H0: Математическое ожидание посещаемости в первый год равно математическому ожиданию посещаемости в последний год\n",
    "- H1: Математическое ожидание посещаемости в первый год равно математическому ожиданию посещаемости в последний год\n"
   ]
  },
  {
   "cell_type": "code",
   "execution_count": 39,
   "id": "25670c0f",
   "metadata": {},
   "outputs": [
    {
     "data": {
      "text/plain": [
       "Season\n",
       "2017-2018    3.053076e+06\n",
       "2018-2019    3.042898e+06\n",
       "2019-2020    2.350204e+06\n",
       "2020-2021    8.611229e+05\n",
       "2021-2022    2.402017e+06\n",
       "2022-2023    3.230263e+06\n",
       "Name: Attendance, dtype: float64"
      ]
     },
     "execution_count": 39,
     "metadata": {},
     "output_type": "execute_result"
    }
   ],
   "source": [
    "cnt=df.groupby('Season')['Attendance'].sum() # посмотрим на общую сумму посещений по годам\n",
    "cnt"
   ]
  },
  {
   "cell_type": "markdown",
   "id": "391fd2c2",
   "metadata": {},
   "source": [
    "Действительно, можно заметить, что посещение матчей в 2017-2018 году несильно отличается от 2022-2023 года."
   ]
  },
  {
   "cell_type": "code",
   "execution_count": 40,
   "id": "dd312e88",
   "metadata": {},
   "outputs": [
    {
     "data": {
      "text/plain": [
       "Season\n",
       "2017-2018    31153.836735\n",
       "2018-2019    31049.979592\n",
       "2019-2020    23981.673469\n",
       "2020-2021     8786.968009\n",
       "2021-2022    24510.377551\n",
       "2022-2023    32961.867347\n",
       "Name: Attendance, dtype: float64"
      ]
     },
     "execution_count": 40,
     "metadata": {},
     "output_type": "execute_result"
    }
   ],
   "source": [
    "df.groupby('Season').Attendance.mean() # теперь посмотрим на среднее по годам"
   ]
  },
  {
   "cell_type": "markdown",
   "id": "090a4b8a",
   "metadata": {},
   "source": [
    "Однако, разница в средних значениях составляет 1808. Если мы предсказываем посещаемость с целью подсчета выручки, то разница в почти  2000 человек является существенной."
   ]
  },
  {
   "cell_type": "markdown",
   "id": "e9105b44",
   "metadata": {},
   "source": [
    "Займемся расчетом z-статистики для разности математических ожиданий (предполагаем, что дисперсии нам известны, поэтому используем данную статистику). В дальнейшем также сделаем расчет t-статистики."
   ]
  },
  {
   "cell_type": "code",
   "execution_count": 87,
   "id": "6812bf17",
   "metadata": {},
   "outputs": [
    {
     "name": "stdout",
     "output_type": "stream",
     "text": [
      "31153.836734693876\n",
      "32961.86734693877\n"
     ]
    }
   ],
   "source": [
    "cnt2=df.groupby('Season').Attendance.mean().to_numpy() # считаем среднее по 2017-2018 году и 2022-2023\n",
    "cnt_1718=cnt2[0]\n",
    "cnt_2223=cnt2[-1]\n",
    "print(cnt_1718)\n",
    "print(cnt_2223)"
   ]
  },
  {
   "cell_type": "code",
   "execution_count": 88,
   "id": "46e0104a",
   "metadata": {},
   "outputs": [
    {
     "name": "stdout",
     "output_type": "stream",
     "text": [
      "17797.118429269405\n",
      "19028.791462097506\n"
     ]
    }
   ],
   "source": [
    "cnt3=df.groupby('Season').Attendance.std().to_numpy() #считаем дисперсию для значений 2017-2018 года и 2022-2023\n",
    "std_1718=cnt3[0]\n",
    "std_2223=cnt3[-1]\n",
    "print(std_1718)\n",
    "print(std_2223)"
   ]
  },
  {
   "cell_type": "code",
   "execution_count": 43,
   "id": "83071966",
   "metadata": {},
   "outputs": [
    {
     "data": {
      "text/plain": [
       "Season\n",
       "2017-2018    98\n",
       "2018-2019    98\n",
       "2019-2020    98\n",
       "2020-2021    98\n",
       "2021-2022    98\n",
       "2022-2023    98\n",
       "Name: Attendance, dtype: int64"
      ]
     },
     "execution_count": 43,
     "metadata": {},
     "output_type": "execute_result"
    }
   ],
   "source": [
    "df.groupby('Season').Attendance.count() #вычисляем nx и ny"
   ]
  },
  {
   "cell_type": "code",
   "execution_count": 44,
   "id": "ce2cc389",
   "metadata": {},
   "outputs": [
    {
     "name": "stdout",
     "output_type": "stream",
     "text": [
      "-0.687 не попадает в (-inf , -1.64) => Нулевая гипотеза НЕ отвергается\n"
     ]
    }
   ],
   "source": [
    "diff = cnt_1718-cnt_2223 #поставляем все значения в формулу и вычисляем доверительный интервал\n",
    "nx, ny = 98, 98\n",
    "diff_std = np.sqrt((std_1718**2)/nx+(std_2223**2)/ny)\n",
    "                                 \n",
    "z_obs = diff/diff_std    \n",
    "alpha = 0.05  \n",
    "z_crit = stats.norm.ppf(1 - alpha) \n",
    "\n",
    "print(f'{z_stat:.3} не попадает в (-inf , {-z_crit:.3}) => Нулевая гипотеза НЕ отвергается')"
   ]
  },
  {
   "cell_type": "code",
   "execution_count": 45,
   "id": "f25e6c3c",
   "metadata": {},
   "outputs": [],
   "source": [
    "def asy_mean_test(mean_hat, std_hat, mu_0=0,  # функция для отрисовки графика\n",
    "                   alpha=0.05, alternative='less', margin=3):\n",
    "    \"\"\"\n",
    "        Асимптотический тест для равенства средних\n",
    "    \"\"\"\n",
    "    \n",
    "    z_obs = (mean_hat - mu_0)/std_hat\n",
    "    \n",
    "    if alternative == 'two-sided':\n",
    "        p_value = 2 * (1 - stats.norm().cdf(np.abs(z_obs)))\n",
    "        z_crit = stats.norm().ppf(1 - alpha/2)\n",
    "        \n",
    "        statistics = ['-z_crit', 'z_crit', '-z_obs', 'z_obs']\n",
    "        params = dict(zip(statistics, [(-z_crit, -0.6, -margin, -z_crit, 'b'), \n",
    "                                       (z_crit, 0.05, z_crit, margin, 'b'),\n",
    "                                       (-z_obs, -0.6, -margin, -z_obs, 'r'), \n",
    "                                       (z_obs, 0.1, z_obs, margin, 'r')]))\n",
    "    \n",
    "    if alternative == 'less':\n",
    "        p_value = stats.norm().cdf(z_obs)\n",
    "        z_crit = stats.norm().ppf(1 - alpha)\n",
    "        \n",
    "        statistics = ['-z_crit', '-z_obs']\n",
    "        params = dict(zip(statistics, [(-z_crit, -0.6, -margin, -z_crit, 'b'), \n",
    "                                       (-z_obs, -0.6, -margin, -z_obs, 'r')]))\n",
    "\n",
    "    if alternative == 'larger':\n",
    "        p_value = 1 - stats.norm().cdf(z_obs)\n",
    "        z_crit = stats.norm().ppf(1 - alpha)\n",
    "        \n",
    "        statistics = ['z_crit', 'z_obs']\n",
    "        params = dict(zip(statistics, [(z_crit, 0.05, z_crit, margin, 'b'),\n",
    "                                       (z_obs, 0.1, z_obs, margin, 'r')]))\n",
    "    \n",
    "    \n",
    "    plt.figure(figsize = (8, 4))\n",
    "    x = np.linspace(-margin, margin)\n",
    "    pdf = stats.norm().pdf(x)\n",
    "\n",
    "    plt.plot(x, pdf, color=\"black\")\n",
    "    plt.ylabel(\"$f(x)$\", fontsize=16)\n",
    "    plt.xlabel(\"$x$\", fontsize=16)\n",
    "    y_max = plt.ylim()[1]\n",
    "    \n",
    "    for i in range(len(statistics)):\n",
    "        statistic, text_margin, left_bound, right_bound, color = params[statistics[i]]\n",
    "        \n",
    "        plt.axvline(statistic, color=color, linestyle=\"--\", lw=2)\n",
    "        h = 0.8 if statistics[i].split('_')[-1] == 'crit' else 0.6\n",
    "        plt.text(statistic + text_margin, \n",
    "                 h*y_max, round(statistic, 2), color=color, fontsize=16)\n",
    "        \n",
    "        xq = np.linspace(left_bound, right_bound)\n",
    "        yq = stats.norm().pdf(xq)\n",
    "        plt.fill_between(xq, 0, yq, color=color, alpha=0.2)\n",
    "    \n",
    "    return p_value"
   ]
  },
  {
   "cell_type": "code",
   "execution_count": 47,
   "id": "3f4e1bd9",
   "metadata": {
    "scrolled": true
   },
   "outputs": [
    {
     "data": {
      "text/plain": [
       "0.7539490769926688"
      ]
     },
     "execution_count": 47,
     "metadata": {},
     "output_type": "execute_result"
    },
    {
     "data": {
      "image/png": "iVBORw0KGgoAAAANSUhEUgAAAgAAAAELCAYAAACvVz6kAAAAOXRFWHRTb2Z0d2FyZQBNYXRwbG90bGliIHZlcnNpb24zLjQuMywgaHR0cHM6Ly9tYXRwbG90bGliLm9yZy/MnkTPAAAACXBIWXMAAAsTAAALEwEAmpwYAABAZElEQVR4nO3deXhMd/vH8fedRNDUvrZErbUvlRQt2qL2nap9rwhi32KNllhqpxQtVa1WdaEU5elTfqoLSTxaFBVatW9VRWtJ8v39MUFokESS70zmfl3XuSZz5pyZT85Fzj3nfBcxxqCUUkop9+JhO4BSSimlUp8WAEoppZQb0gJAKaWUckNaACillFJuSAsApZRSyg152Q6QmnLmzGkKFixoO4ZKgogIx6Ofn90c1rj9AVBKJUVERMQ5Y0yu+F4Td+oG6O/vb8LDw23HUEkg4nh0o3+ud3L7A6CUSgoRiTDG+Mf3mt4CUEoppdyQFgBKKaWUG9ICQCmllHJDWgAopZRSbshqASAi9UTkgIhEikjwfbZ7WkSiReSlxO6r0gZj3Lz9m9sfAKVUcrNWAIiIJzAPqA+UAtqKSKl7bDcF2JjYfZVSSikVP5tXACoBkcaYw8aY68AKoGk82/UFPgXOJGFfpZRSSsXD5kBA+YCjcZ4fAyrH3UBE8gHNgZrA04nZN857BAABAAUKFHjo0MqOm+Pf3BwPx+24yAHYv38/a9as4fLly/fdrmTJkjRp0gQfH59USqaUupvNAkDiWXf3Tc5ZwHBjTLTIHZsnZF/HSmMWAYvAMRBQ4mMqZ7Bzp+0EljnxAThx4gQrVqxg+fLl7IzNedf/1zvcHHzMx8eH5s2b0759e1588UW8vNxqYFKlrLN5C+AY4BvneX7gxF3b+AMrROQ34CVgvog0S+C+SqkUcvHiRd555x1efPFFfH19GTx4MCLCjBkzOHHiBDExMfdcoqOj2bJlC+3ateOLL76gfv365MuXj379+rF9+3bcaXRSpWyyNhSwiHgBvwC1gONAGNDOGLP3HtsvBb4wxnyS2H1v0qGAXZfbj4TrJAdg7969vPrqq6xdu5arV69SuHBh2rdvT/v27SlevHii3+/atWts2LCB5cuXs3btWq5du0aRIkV45ZVXGDRoEN7e3inwWyjlPpxyKGBjTBQQhKN1/z5gpTFmr4gEikhgUvZN6cxKuauYmBhmzJiBn58fX331Fa+88grff/89kZGRvPbaa0k6+QOkT5+eZs2a8fHHH3P69GmWLFnCE088wYgRI6hSpQo///xzMv8mSqmbdDIg5RKc5AuwPRYPwO+//06XLl3YvHkzTZo04a233iJ37twp+pmrV6+mR48eXLp0iSlTptC3b188PHTcMqUSyymvACilnJsxhvfee4+yZcsSFhbG4sWLWb16dYqf/AGaNWvGnj17qF27NgMGDKBOnTocPXr0wTsqpRJMCwDlEnr0cCxuK5UPwPnz53n55Zfp1KkTZcuW5ccff6Rbt273bd2f3PLkycOaNWt46623+OGHHyhbtiwffPCBNhJUKpnoLQCl1B2+/PJLunXrxrlz53jttdcYOnQonp6eVjMdOnSIjh078v3339O6dWvmz59P9uzZrWZSyhXoLQCl1AMZYxgxYgT169cne/bs7Nixg+DgYOsnf4AiRYqwdetWQkND+fTTT29dlVBKJZ0WAMolREQ4/SB4KSuFD4AxhiFDhjB58mQCAgIIDw+nQoUKKfZ5SeHl5cXIkSPZvn07Hh4e1KpVi59++sl2LKVclt4CUC5BewGk3AEwxjB06FCmT59O3759mT17dqre60+KyMhIXnjhBa5du8bXX39N2bJlbUdSyinpLQClVLyMMQwbNozp06cTFBTkEid/gKJFi7JlyxbSp09PzZo12b17t+1ISrkcLQCUclPGGIYPH860adPo06cPc+bMcYmT/01FixZl8+bNeHt7U7NmTfbs2WM7klIuRQsApdyQMYbg4GCmTp1K7969mTt3rkud/G8qVqwYW7Zs0SJAqSTQAkApN3Oztf/rr79Or169eOONN1zy5H9TsWLF2Lx5M15eXtSsWZO9e3VUcKUSQgsApdyIMYaRI0cyZcoUAgMDXf7kf9OTTz7Jli1bbhUBOoeAUg+mBYBSbmTMmDFMnjyZnj17Mm/evDQ1vv6TTz7J5s2b8fT0pEaNGuzbt892JKWcWtr536/StPBwx+K2kuEALFu2jNDQUHr06MH8+fPT1Mn/puLFi7N582ZEhCZNmvDnn3/ajqSU09JxAJRyA//73/949tlnqVKlCv/5z3/w8vKyHSlFbdu2jRo1alC/fn1Wr16dJosdpRJCxwFQyo2dP3+eFi1akDNnTj766KM0f/IHqFatGjNmzGDt2rWEhobajqOUU0r7fwlUmhAQ4HhctMhuDmuSeACio6Np164dJ06cYOvWrakyla+zCAoKYseOHYSEhODv70/9+vVtR1LKqVi9AiAi9UTkgIhEikhwPK83FZGfRGSXiISLSLU4r/0mIrtvvpa6yd3Ltm3QpQuUKQNeXlCwYOLfY/16eO45ePRRyJwZ/P3h66/vvX3Pno7Rbzt0cDx/6y3H4raSeABCQkLYtGkTc+fOpXLlyikQzHmJCAsXLqRcuXK0a9eOQ4cO2Y6klFOxVgCIiCcwD6gPlALaikipuzb7L1DeGFMB6Aa8fdfrNYwxFe51f0Mlj//+F775BkqXhpIlE7//woXQtCn4+cGqVfDxx9CqFfz9d/zbf/cdLF/uKBRU0q1evZrQ0FC6d+9Ojx49bMex4pFHHuGzzz4DoEWLFvx9r390Srkhm1cAKgGRxpjDxpjrwAqgadwNjDGXze1Wij6A+7RYdCJjxsChQ/DRR1C+fOL2/e03GDAApk6FmTOhdm2oWxeGD4dGjf69/Y0bjqvdo0ZBtmzJkd49HThwgE6dOuHv759m+vonVeHChfnggw/YvXs3AQEBuFPDZ6Xux2YBkA84Guf5sdh1dxCR5iKyH1iH4yrATQbYJCIRIhJwrw8RkYDY2wfhZ8+eTabo7uVhGlAvWeLYPzAwYdtPnQrR0TB4cNI/091dunSJFi1akD59ej799FMyZMhgO5J19evX59VXX2X58uW88cYbtuMo5RRsFgDxfSX5V2lujFlljCkBNAPGx3mpqjGmIo5bCH1E5Ln4PsQYs8gY42+M8c+VK1cyxFaJsW0blCgBK1ZAkSKONgRFi8K8ef/e9tAhmDAB5s8Hb+/Uz5oWGGPo1q0b+/fvZ8WKFRQoUMB2JKcxatQoGjduzKBBg9i2bZvtOEpZZ7MAOAb4xnmeHzhxr42NMVuBIiKSM/b5idjHM8AqHLcUlJM5cQIOHoShQyE4GDZtctwGCAqC2bPv3DYwEFq0gBo17GRNC6ZPn84nn3zCpEmTqFWrlu04TsXDw4Nly5ZRsGBBWrVqxYkT9/xzo5RbsNkNMAwoJiKFgONAG6Bd3A1EpChwyBhjRKQi4A2cFxEfwMMYcyn25zrAa6kbP+0xxnH5Pa6H7TIeEwOXLsHSpY6TO0DNmo62AZMmQb9+jtb+778PYWGwf3/871Ox4sPlcHkJOADffvstw4cPp2XLlgwdOjQVQrmerFmzsmrVKipXrkybNm1uDR2slDuydgXAGBMFBAEbgX3ASmPMXhEJFJGbd4xbAntEZBeOHgOtYxsF5gG2iciPwA5gnTHmy1T/JdKY//s/SJfuzuVh5cjheKxd+871derA6dNw8iRcvgyDBjkaBmbIAH/+6VhiYhyNAv/8E374ASIiHj6Py4qIuO8BuHLlCl26dKFAgQK88847bt3o70HKlCnD/Pnz+eabb5gzZ47tOEpZY3UgIGPMemD9XesWxPl5CjAlnv0OA4lsj64exM/P8S08OZUu7Th53+1mQ2wPDzh3Ds6ehZEjHUtcR4/CypWO7oPNmiVvtrRkxIgRREZGsnnzZjJlymQ7jtPr1KkTn376KSNHjqRBgwYUL17cdiSlUp2OBKhuyZTJMUBPcmreHBYvho0b4aWXbq/fuBHy54e8eeHqVdi8+d/7tmkDZcs6ugSWKZO8udKSLVu2MHfuXPr27csLL7xgO45LuDlIUOnSpencuTPffvut3gpQbkcLAPVAZ886bg8A/P67YwCfTz5xPC9VyrEALFsG3bo5Bg56/nnHugYNHI36evZ0fNMvXNix76ZN8M47jm0yZID4zlsZMkCePI7Xbl7Rdtsu3Pc4AJcuXaJr164ULVqUSZMmWQjmuh577DHmzZtHu3btmDZtGsOHD7cdSalUpQWAeqC9ex0j98V183lICIwb5/g5JsbRiDDuOUoEVq+GESMc21644OgWuHw5tGuHekjDhg3jyJEjfPPNN/j4+NiO43LatGnDJ598wtixY2nUqBGlS5e2HUmpVKPTASuXoFcA/n0A/vOf/1CnTh0GDx7MtGnTLAVzfWfOnKF06dI88cQTfP/996RLjtavSjkJnQ5YqTTm4sWLdO/enRIlSjB+/PgH76DuKXfu3CxYsICIiAimTPlXm2Ol0iwtAJRyQYMGDeL48eMsXbqUjBkz2o7j8lq2bEmbNm147bXX+PHHH23HUSpVaAGglItZv349S5YsYfjw4W43xW9KeuONN8iePTudO3fm+vXrtuMoleK0AFDKhVy4cIEePXpQpkwZQkJCbMdJU3LkyMGiRYv48ccfmTBhgu04SqU47QWgXMLChbYTWBZ7APr378/p06dZu3Yt6dOntxwq7WnSpAmdOnVi4sSJNG3aFD8/P9uRlEox2gtAKRexZs0amjZtytixY3n11Vdtx0mzLly4QJkyZciWLRs7d+7EW6emVC5MewEo5eIuX75MUFAQZcuWZdSoUbbjpGnZsmXjrbfeYu/evUyfPt12HKVSjBYAyiUsWuRY3NXGli2pd/QoC954Q7+RpoIGDRrQsmVLxo8fz2+//WY7jlIpQm8BKJfgzgMB7d27l9I3J0O4cAGyZrWax10cPXqUkiVLUqtWLT7//HPbcZRKEr0FoJSLMsbQu3dv2zHckq+vL+PGjWPNmjWsWbPGdhylkp0WAEo5sffee4+tW7fajuG2+vfvT+nSpenXrx9XrlyxHUepZKUFgFJO6sKFCwwZMoQqOkGNNenSpePNN9/kyJEjhIaG2o6jVLKyWgCISD0ROSAikSISHM/rTUXkJxHZJSLhIlItofsq5epGjRrF+fPneTMw0HYUt1a9enU6d+7MtGnT2Ldvn+04SiUbawWAiHgC84D6QCmgrYiUumuz/wLljTEVgG7A24nYVymXFRYWxoIFC+jbuDEVnn7adhy39/rrr+Pj40OfPn1wp4bTKm2zeQWgEhBpjDlsjLkOrACaxt3AGHPZ3P7f5gOYhO6rlKuKjo6mV69e5M2Rg9e6dQMvHbDTtty5czNp0iQ2b97Mhx9+aDuOUsnCZgGQDzga5/mx2HV3EJHmIrIfWIfjKkCC943dPyD29kH42bNnkyW4Sn3GuE8XwIULFxIREcHM7t3JnC/2n3V4OGzYYDeYm+vRowdPP/00gwYN4uLFi7bjKPXQbBYAEs+6f/2JN8asMsaUAJoBNyc+T9C+sfsvMsb4G2P8c+XKldSsSqWKU6dOMXLkSF708+PlRo1sx1FxeHp68uabb3LmzBlGjx5tO45SD81mAXAM8I3zPD9w4l4bG2O2AkVEJGdi91XKVQwdOpR//vmHeYGBSMaMtuOou/j5+dG7d2/mz59PRESE7ThKPRSbBUAYUExEComIN9AGuGO0DREpKuIYA05EKgLewPmE7KvSFj8/x5KWbdmyhffff59hLVvyZNmyd77YoQP07WsnmLrDhAkTyJkzJ7169SI6Otp2HKWSzFoBYIyJAoKAjcA+YKUxZq+IBIrIzX5PLYE9IrILR6v/1sYh3n1T/ZdQqWbnTseSVt24cYM+ffpQKF8+RrZv/++Gf/v3Q2SknXDqDlmzZmX69OmEhYWxZMkS23GUSjKdC0C5hLQ+F8DcuXPp168fq0ePpmnTprd/4Zv8Y4fy1rkAnIIxhueee44DBw5w8OBBsmTJYjuSUvHSuQCUcmLnz58nJCSEWn5+NKld+98nf+V0RIRZs2Zx7tw5xo8f/+AdlHJCWgAoZVlISAgXL15kVrduiI+P7Tgqgfz8/OjatSuzZ8/ml19+sR1HqUTTAkApi/bs2cOCBQsIbNiQMmm9lWMaFBoaSsaMGRk8eLDtKEolmhYASllijGHgwIFk9vHhtU6ddMQ/F5Q3b15Gjx7NF198wcaNG23HUSpRtABQLqFHD8eSlqxdu5avvvqKcW3bkuOJJ+6/cfPmUK9e6gRTidK/f3+KFCnCwIEDuXHjhu04SiWY9gJQyoJr165RunRpvGNi+HHRItJly/bgnc6ehSpVtBeAE/r8889p1qwZs2fPpl+/frbjKHWL9gJQysnMmTOHQ4cOMbNr14Sd/JVTa9KkCS+++CIhISGcO3fOdhylEkQLAOUSIiIcizXbtsGzz0LGjJA3LwwaBP/8k/D916+H556DRx8lJlMmagUHM6JkSerWrHl7mwMHHKP9Va8Ozz8PAwfC0dg5r/btg4MHk/d3UslGRJg5cyZ//fUXISEhtuMolSBaACiX4O9/eyycVPfTT1C7NuTODV98ARMmwDvvQJcuCdt/4UJo2tQxlvGqVcyuWpWPgT61akGGDI5tfv/d0cjh8mUYPx7GjoWTJx3r/vgDOnYEvbTs1MqUKUOvXr1YsGABu3fvth1HqQfSNgDKJVgdCbB5c9izB37+GdKlc6xbtgw6d3ZclqhY8d77/vYblCwJkybBgAHs3LkTf39/BjZvzvRhw263/B8/Hv77X1i7FjJlcqw7fdrx2a1bw3vvOdbpSIBO7fz58xQrVoyKFSvyn//8B9FBnZRl2gZAqaS6cQO+/BJefvn2yR8cz7294fPP77//kiXg4QGBgRhj6N+/PzmzZWNMhw53dvvbvRvKlbt98gfIkweKFIEtW5L1V1IpJ0eOHIwbN47//ve/rFmj85Mp56YFgFL3c+gQXL0KZcrcuT5DBsfJ+eef77//tm1QogSsWMGVvHnZvG0bB6Ojyfr993du5+kZ/zgA6dLBsWMP9zuoVNWrVy9KlizJ4MGDuXbtmu04St2TFgBK3c8ffzge42upnz377dfv5cQJOHgQM3Qo46Oi6JUvH5mqV4epU+HDD29v98QTjhn/oqJur7tyBQ4fTrszIKVR6dKlY+bMmRw6dIjZs2fbjqPUPWkBoNRNxjhOwHGXmyff+O7lJuTEHBMDly7xae3avP7HH7QPCsJj3DhHj4KlS2+/R5s2cOYMTJzoeDx5El59NXE9DZTTqFu3Lg0bNmTChAmcOXPGdhyl4qUFgFI3/d//OS65x12yZ3e8Ft83/QsXbr9+LzlyABD0+ec0q1aNF6pXd6yvXBnOn4ebfcYrVIDhwx0NARs0gMaNHT0CGja8s+2BchnTpk3j77//1m6Bymnp4OPKJaRK5w0/PwgLu3NdkSKQPj3s3Xvn+qtXHZfnW7W6/3uWLg0//MD169d5vUuX293+4ruy0KqVo7vg0aPg4+MYb6BfP0f7g0GDHAWHchklSpSgV69ezJ8/n6CgIEqXLm07klJ3sHoFQETqicgBEYkUkeB4Xm8vIj/FLt+JSPk4r/0mIrtFZJeIaN++NM7Pz7GkqEyZbg84cHPx9naMwb9y5Z335z/5BK5dgyZN7vuWh8s7/snO8POjWNyGhD/84GjlnzPnnTt4ezuKjrx5ITIStm+Hli0dXQmLFUuu31SlknHjxpE5c2adLVA5JWsFgIh4AvOA+kApoK2IlLprs1+B540x5YDxwKK7Xq9hjKlwrz6OSiWLceMc38pfftlxiX7xYsc385deurMqWbbM0ZL///4PcMz212PVKr7x9KTT3r2werXjxB8a6ngMDLy97+nTMG+eo9fA9u2O9gHdu0PNmjoJkAvLkSMHY8aMYePGjXz55Ze24yh1B5u3ACoBkcaYwwAisgJoCtzqV2WM+S7O9j8A+VM1oXIaAQGOx0V3l4CpoUIF2LjRcY++YUPIkgU6dXI02IsrJgaio29d3l+3bh1fb95Mq27dqP7XX47wf/0FBQs6RhOMe2L38nLcZvjsM/j7b8if3zEKYJs2jtdDQx0NAqtUSZVfWSWfoKAg3nzzTQYPHsyLL76Il077rJyEtZEAReQloJ4x5pXY5x2BysaYoHtsPwQoEWf7X4ELgAEWGmPiPTWISAAQAFCgQAG/I0eOJPvvolKe1ZEAk+DGjRuULVsWrl5l96JFpIttDJhkN8dB1pEAXdKqVato0aIF8+fPp1evXrbjKDfirCMBxjdGZrx/3kWkBtAdGB5ndVVjTEUctxD6iMhz8e1rjFlkjPE3xvjnypXrYTMrlSALFizgwIEDTOvS5eFP/srlNWvWjOeff56xY8dy8eJF23GUAuwWAMcA3zjP8wMn7t5IRMoBbwNNjTHnb643xpyIfTwDrMJxS0Ep6y5cuMC4ceOo5edHw7iz/Sm3JSLMmDGD8+fPM/HuW0dKWWKzAAgDiolIIRHxBtoAdwyeLSIFgM+AjsaYX+Ks9xGRTDd/BuoAe1ItuVL3MX78eC5cuMD0rl0RHx/bcZSTqFixIp06dWLWrFkcPnzYdhyl7BUAxpgoIAjYCOwDVhpj9opIoIjcbB49FsgBzL+ru18eYJuI/AjsANYZY7SJrbLu4MGDvPHGG3SvV4/y95slULml0NBQvLy8CA7+V69npVKd1eaoxpj1wPq71i2I8/MrwCvx7HcYKH/3eqVsGz58OOm9vRnfqZOjT79SceTLl49hw4Yxbtw4vv32W6pWrWo7knJjOhSwcgkVKzoWZ7ZlyxZWrVrFiJdeIm/hwsn75iVKQNGiyfueyoohQ4aQL18+Bg4cSExMjO04yo1pAaBcQkSEY3FWMTExDBo0CN+8eRnYqpVjet/k9P77MHdu8r6nssLHx4eJEycSFhbGh3FnhFQqlWkBoFQyWLZsGf/73/+Y3LEjGfPksR1HObkOHTrg5+dHcHAwf//9t+04yk1pAaDUQ7p8+TIjR46kcunStKlfP/6pg5WKw8PDg5kzZ3Ls2DGmT59uO45yU1oAKJcg4rzn1SlTpnDy5ElmdeuGR+bMKfMh/v5Qv37KvLeyonr16rz00ktMnjyZ48eP246j3JAWAEo9hCNHjjBt2jTa1apFFR2nXyXS66+/TlRUFCNHjrQdRbkhLQCUegjBwcEIMLlzZ0if3nYc5WIKFSrEoEGDWLZsGWFhYbbjKDejBYBSSfTdd9+xYsUKhrZsie+TT9qOo1zUiBEjyJMnDwMHDsTW5GzKPSWqABCRKiIyTkS+FJGfROSgiHwvIktFpKuIZEupoEo5k5iYGAYMGMDjuXMz7OWXHdP5KpUEmTNnZsKECXz77bd8/PHHtuMoN5KgAkBEOovIbuA7YADwCHAQ2I5jSt7KOCbsOR5bDBRKmbhKOYcPPviAsLAwJnXsiM/jj9uOo1xc165dKV++PMOGDeOff/6xHUe5iQcWALHj7U/GMWSvH5DNGPOcMaalMaaDMaaBMaYkkB3oAeQG9opI65QMrpQtV65cITg4GP+SJenQoIHzdk9QLsPT05OZM2dy5MgRZs6caTuOchMJuW75DrDAGHP1fhsZYy4Cy4HlIlIeyJsM+ZQCYOFC2wlumzp1KsePH+ejAQPwyJIldT505Ei4dCl1PktZUaNGDZo3b86kSZPo2rUrjz32mO1IKo0Td2p04u/vb8LDwx+8oVL3cPToUYoXL07jypX5aMIEyJAh9T787FmoUgWyZk29z1SpKjIyklKlStGxY0cWL15sO45KA0QkwhjjH99riW0E6OTTsSiVskaMGEFMdDRTOndO3ZO/cgtFixalf//+vPPOO+zcudN2HJXGJbYb4GYRqZEiSZS6j0WLHItN27dvZ/ny5Qxu0YKCJUum7od/9hmsX//g7ZTLGz16NDlz5tRugSrFJbYA+ABYLyIt735BRKqJyLbEvJmI1BORAyISKSLB8bzePra74U8i8l1s24IE7avSlp49HYstxhgGDBhA3pw5CW7TJvW7/U2cqLMBuoksWbIwfvx4tm7dyqpVq2zHUWlYogoAY0wvYBKwQkQCAUSkrIisBbYCCR4HQEQ8gXlAfaAU0FZESt212a/A88aYcsB4YFEi9lUq2axYsYIffviBiR06kClfPttxVBrXvXt3ypYty5AhQ7h69b7tr5VKskSPBGiMeQ0IBOaIyP8B/wPKAN2Asol4q0pApDHmsDHmOrACaHrXZ31njLkQ+/QHIH9C91UquVy+fJmhQ4fy1JNP0rlxY+32p1Kcl5cXM2fO5Ndff2XGjBm246g0KtEFgIhkB54EooHqOE7MxYwxS40xMYl4q3zA0TjPj8Wuu5fuwIYk7qtUkk2cOJHjx48zt0eP1Ov2p9xerVq1aNGiBaGhoRw9evTBOyiVSIntBRACHAb6ANNxfOv3B5JSosb3NSreFi+xDQ+7A8OTsG+AiISLSPjZs2eTEFO5s8jISKZPn07H2rWp+uyztuMoNzN9+nRiYmIYOnSo7SgqDUrsFYBROBoCFjHGjDbGLAUaAJ1F5CMRSZeI9zoG+MZ5nh84cfdGIlIOxzDDTY0x5xOzL4AxZpExxt8Y458rV65ExFMKBgwYQHpvb6Z06aKz/alUV7BgQYKDg/noo4/YsmWL7TgqjUlsAVDSGNPbGHP65gpjzNdADeB54MtEvFcYUExEComIN9AGWBN3AxEpAHwGdDTG/JKYfZV6WF988QXr1q0jpE0bHita1HYc5aaGDRtGwYIF6du3L1FRUbbjqDQksb0ADt1j/U6gGlAwEe8VBQQBG4F9wEpjzF4RCbzZwwAYC+QA5ovILhEJv9++ifldlGsxxrGklqtXrzJgwABKFCpE35YtwdMz9T48PuHhsGHDg7dTaU7GjBmZOXMme/bsYf78+bbjqDQkWYcCFpE8ca8OOBsdClgl1MSJExk1ahSbJkygdt26ztHyX4cCdlvGGOrVq8f27dv55ZdfyJ07t+1IykU81FDAIvK5iDyVkA8yxpwWkQwiMijOt3ilXMrRo0cJDQ2lxXPPUfu555zj5K/cmogwe/Zsrly5wogRI2zHUWlEQm4BHAF+EJHtItJfRCqKyB3DoInI4yLSTEQWAydx9A7QgaxVsvHzcyypYciQIcRERzO9a1d45JHU+dAH6dAB+va1nUJZVKJECQYMGMCSJUvYsWOH7TgqDUhIAXAdRyO/HUAIjgZ4V0XkDxE5KSJXcfTJ/wwoDQwAyhlj9F+oSjY7dzqWlLZ582ZWrlxJ8Msvp/54//ezfz9ERtpOoSwbM2YMefPmJSgoiJiYxAy7otS/JWRA8wE4Gtn1FZFLOFr6PwM8BmQAzgP7ga3GmCMpFVSplHbjxg369etHwXz5GPbyy6k/3r9SD5A5c2amTp1Kx44dWbp0Kd26dbMdSbmwhPyF+4PbY/wPB1YbY6akXCSl7Jg/fz579uxh1ejRZMyb13YcpeLVvn17FixYQHBwMC1atCCrNgpVSZSQWwDbgGki0gHHCHw6P6VKc86cOUNISAh1KlWi6YsvasM/5bREhLlz53Lu3DlCQkJsx1EuLCEFQBBwCngXx8n/KxH5RkTmiEhXEamQyBEAlXI6I0aM4MqVK8zu3h159FHbcZS6r6eeeoqePXsyb948du/ebTuOclEPLACMMSeMMbVxTLYjwEc4WvrXwzFEbwRwSUR2xvYCUMqlfPPNNyxZsoSBzZtTonx523GUSpAJEyaQNWtWAgMDtUGgSpIEt3IyxpwSkVXATGPMPgAReRSoADwVu1RMiZBK9eiRMu977do1evbsyROPP05Ihw7O2/CveXP45x/bKZQTyZEjB9OmTaNr16689dZb9OzZ03Yk5WKSdSRAZ6cjAaq7TZgwgTFjxrBu3DgaNGzo3Pf+dSRAdRdjDLVq1WLnzp3s27ePxx57zHYk5WQeaiRApdKqX375hQkTJvByjRo0qFnTuU/+SsVDRFiwYMGtuSuUSgwtAJRLiIhwLMnFGENgYCAZvL2Z1b2784z4dy/79sHBg7ZTKCf05JNPMmrUKFauXMn69ettx1EuRG8BKJdw88t5cv1zfffdd+nSpQtvBgUR6Mz3/m/yj72Cd+GC3gJQ/3L9+nUqVKjA33//zd69e/Hx8bEdSTkJvQWgVBznzp1j8ODBPFuuHAFNmzr/yV+pB/D29mbRokUcOXKEcePG2Y6jXIQWAMrtDB48mIsXL7KwZ088smV78A5KuYBq1arRo0cPZs6cya5du2zHUS5ACwDlVr7++muWLVvGsFatKPNUgma5VsplTJkyhRw5ctCjRw+io6Ntx1FOzmoBICL1ROSAiESKSHA8r5cQke9F5JqIDLnrtd9EZLeI7BIRvbGvHujq1asEBgZStEABRrdtC97etiMplayyZcvGrFmzCA8PZ968ebbjKCdnrQAQEU9gHlAfKAW0FZFSd232B9APmHaPt6lhjKlwrwYOSsUVGhrKwYMHeTMggIzaX1qlUW3atKFu3bqMGjWKo0eP2o6jnJjNKwCVgEhjzGFjzHVgBdA07gbGmDPGmDDgho2AKu34+eefmTJlCh1q1+bF55/XPv8qzRIR3nzzTaKjo+nbt6/tOMqJ2SwA8gFxy9NjsesSygCbRCRCRALutZGIBIhIuIiEnz17NolRlW3h4Y4lKWJiYggICCCTjw8zunWDjBmTN1xqeO89mDPHdgrlIgoVKsS4ceP4/PPPWbVqle04yknZLADi+wqWmF7eVY0xFXHcQugjIs/Ft5ExZpExxt8Y458rV66k5FROwM/PsSTF/Pnz+fbbb5nWpQu5ihRJ3mCppWRJKFbMdgrlQgYOHEj58uXp3bs358+ftx1HOSGbBcAxwDfO8/zAiYTubIw5Eft4BliF45aCUnf45ZdfGDZsGPUrV6ZLs2bgoR1flHtIly4d77zzDufOnaNPnz624ygnZPOvYRhQTEQKiYg30AZYk5AdRcRHRDLd/BmoA+xJsaTKuoAAx5IYUVFRdOrUiQze3rzdty/y6KMpEy41hIbC7Nm2UygX89RTTzFu3Dg++ugjPvroI9txlJOxOhSwiDQAZgGewBJjTKiIBAIYYxaISF4gHMgMxACXcfQYyInjWz84pjT+wBgT+qDP06GAXVdShgKeOHEio0aN4sPhw2nTogV4eqZMuNSgQwGrJIqKiqJatWocPHiQPXv26IyBbuZ+QwHrXADKJSS2ANi1axeVKlWiefXqfDR2LLjyt3/QAkA9lAMHDvDUU09Ro0YNvvjiC0R7wbgNnQtAuZVr167RsWNHcmTNyvyePV3/5K/UQypevDiTJ09m/fr1LF682HYc5SS0AFBpTkhICHv27OHt3r3JUaiQ7ThKOYWgoCBq1KjBwIED+fXXX23HUU5ACwCVpnz33XdMnTqVVxo2pGGtWtrqX6lYHh4eLF26FA8PD7p06UJMTIztSMoy/euo0ozLly/TqVMnCjz2GDO6d4dHHrEdSSmnUqBAAWbPns3WrVuZNWuW7TjKMi0AlEuoWNGx3M+wYcM4fPgwS/v2JVP+/KkTLLWUKAFFi9pOodKAzp0706RJE0aOHMnPP/9sO46ySHsBqDRh06ZN1K1bl4EtWzJj4EDIkMF2pOR39ixUqaK9ANRDO336NGXKlOGJJ57g+++/J126dLYjqRSivQBUmnbhwgW6detGyUKFCO3SJW2e/JVKRnny5GHBggVEREQwceJE23GUJVoAKJdmjCEgIIBTp06xrH9/neZXqQRq2bIlHTp0YPz48Wzbts12HGWBFgDKJYjEP4Pv3Llz+eSTT5jYuTP+VaqkfrDU4u8P9evbTqHSmDfeeINChQrRunVrzpw5YzuOSmVaACiXtX37doYMGULjqlUZ0qEDeHnZjqSUS8mSJQsff/wx58+fp3379kRHR9uOpFKRFgDKJZ0/f55WrVqRL3du3u3fH4/MmW1HUsolVahQgTfeeIOvvvqK8ePH246jUpEWAMrlxMTE0LFjR06fPs3HQ4aQTUf7U+qhdO/enU6dOvHaa6+xadMm23FUKtECQLmcyZMns2HDBmYFBOBfuXL8jQOUUgkmIsyfP5/SpUvTvn17jh07ZjuSSgVaACiXsnnzZsaMGUPb2rUJbN4cvL1tR1IqTfDx8eGTTz7h6tWrtG7dmhs3btiOpFKYFgDKpbRt25YnCxZkUa9eSJYstuMolaYUL16ct99+m++++44RI0bYjqNSmBYAyiXMnx9NsWLTuPTXX3wyeDCP+vrajpS6Ro6Evn1tp1BuoHXr1vTp04fp06ezevVq23FUCrJaAIhIPRE5ICKRIhIcz+slROR7EbkmIkMSs69KW44eHcPBg0NZ0Ls3pf383O++f4sW0KCB7RTKTUyfPp2nn36aLl26cPjwYdtxVAqxVgCIiCcwD6gPlALaikipuzb7A+gHTEvCviqNWLduHZMmTeKVhg3p2KSJ9vdXKoWlT5+elStX4uHhwUsvvcTVq1dtR1IpwOYVgEpApDHmsDHmOrACaBp3A2PMGWNMGHB3a5QH7qvShj179tCuXTvyZh9NkVyTwMfHdiQ7PvsM1q+3nUK5kYIFC7Js2TL+97//0bVrV2JiYmxHUsnMZgGQDzga5/mx2HXJuq+IBIhIuIiEnz17NklBlR0nT56kYcOGZPBKz6k/xjNiaVnbkeyZOBHmzrWdQrmZRo0aMXnyZFasWMGYMWNsx1HJzGYBEN9N3ITOTZzgfY0xi4wx/sYY/1y5ciU4nLLr8uXLNGrUiHNnzzH1pVG24yjltoYNG0ZAQAATJ07k7bffth1HJSObBcAxIG5T7vzAiVTYVzm56Oho2rVrx65du5jQYhhPVUrDk/wo5eREhHnz5lGvXj0CAwN1pMA0xGYBEAYUE5FCIuINtAHWpMK+yokZYxgwYABr165laKPe1Kz6Il7ptdGfUjZ5eXnx0UcfUbp0aV566SV2795tO5JKBtYKAGNMFBAEbAT2ASuNMXtFJFBEAgFEJK+IHAMGAaNF5JiIZL7XvnZ+E5WcZs+ezRtvvEHHGi/TuuZLeGfKYDuSUgrInDkz69atI1OmTDRo0IATJ/Siq6uz+tXKGLMeWH/XugVxfj6F4/J+gvZVrm3VqlUMGjSI2n416FvnFTLkeNR2JKVUHPnz52fdunVUr16dhg0bsnXrVjJlymQ7lkoiHQlQOYUdO3bQvn17yhUpzdhGA3g0f3bbkZRS8ahQoQIrV65k9+7dtGnThqioKNuRVBJpAaCs+/XXX2ncuDE5M+dgcrMR5Cj67x6d382N4NS6CAvpnER4OGzYYDuFUgDUr1+fefPmsX79evr164cxCe3ApZyJtq5SVp05c4YGDRpw7Z9rzO30KgXKPmk7klIqAXr27Mnhw4d5/fXX8fX11cmDXJAWAMqaM2fOULNmTX779TdmtR1HaX8/xMPNxvhXyoVNmjSJY8eOMXLkSDw8PBg+fLjtSCoRtABQVpw+fZqaNWty+NBhZrQey7PVX8DD6953pLq+XoL03vDjR/tTMaUT6dABoqIgLMx2EqVu8fDw4N1338UYQ3Bw8K1H5Rq0AFCp7ubJ/7fDvzK9TQjVqtfAy/v+/xQPHHXTOQBu2u+mhY9yel5eXixbtgwRYcSIERhj9HaAi9ACQKWqU6dOOU7+v/3GzNZjqVrtBTx1oB+lXJqXlxfvvvsuACNHjsQYw8iRIy2nUg+if3lVqjl16hQ1atTg9yNHmPly7Mk/QzrbsZRSySDulYBRo0ZhjGHUKJ3Hw5lpAaBSxcmTJ6lZsya/H/mdGa3H8eyzz+nJX6k0xtPTk3fffRcRYfTo0RhjGD16tO1Y6h60AFAp7uTJk9SoUYOjvx9lZpsQPfkrlYZ5enqydOlSRIQxY8ZgjNGphJ2UFgAqRR07dowXX3yRY78fY2abcTxT9Tm9569UGufp6ck777yDh4cHY8eOJTo6mpCQEES0m68z0b/EKsWEh4fTpEkTLl38ixltxvJMtece2Nr/Xpo8e5bM7jzkePPm8M8/tlMolWCenp4sXrwYDw8PXn31VX777TcWLlxI+vTpbUdTsbQAUCnik08+oVOnTuTIlJ1FnV+n7NNP45ku6SNPB7f9ncKFkzGgqxk1Cs6etZ1CqUS5WQQULFiQkJAQDh8+zGeffUbOnDltR1PoXAAqmRljCA0NpVWrVpTwfZK3Or1O+SqVHurkr5RyXSLC2LFj+fDDD9mxYweVK1dm3759tmMptABQyejatWt06tSJ0aNH07BSHea0ncAT5Ysny/C++39/hB8PPpIMKV3Uvn1w8KDtFEolWZs2bdiyZQtXrlzhmWeeYdOmTbYjuT1xp1mc/P39TXh4uO0YadKZM2do3rw53333Hb3rdaVbzXY88li2ZHv/Uh39ADDhbjojoL+/4/HCBcia1WoUpR7G77//TuPGjdm7dy9z5syhd+/etiOlaSISYYzxj+81q1cARKSeiBwQkUgR+dcA0uIwJ/b1n0SkYpzXfhOR3SKyS0T0rG7R3r17qVy5MjsjdjKx9Uh6NOiarCd/pVTaUaBAAbZt20b9+vXp06cP/fr1IyoqynYst2StABART2AeUB8oBbQVkVJ3bVYfKBa7BABv3vV6DWNMhXtVNyrlrV27lmeeeYYrf13hzQ4TaVSrMemzufGleqXUA2XKlInVq1czePBg5s6dS6NGjTh37pztWG7H5hWASkCkMeawMeY6sAJoetc2TYFlxuEHIKuIPJbaQdW/XblyhcDAQJo0aUL+7I+zuPNUnq5WDa+MOsCPUurBPD09mTZtGosWLeLrr7+mbNmyfPnll7ZjuRWbBUA+4Gic58di1yV0GwNsEpEIEQm414eISICIhItI+FntRpUstm/fzlNPPcWiRYvo9PzLLAmcSdGKZe47na9SSsWnR48ehIWFkSNHDurXr09QUBB///237VhuweZf7Piaht/dIvF+21Q1xlTEcZugj4g8F9+HGGMWGWP8jTH+uXLlSnpaRVRUFOPGjaNq1apcuXiF+R0nMqh1P7Lkz207mlLKhZUvX57w8HAGDhzIvHnzqFixIhERbtrgNxXZLACOAb5xnucHTiR0G2PMzcczwCoctxRUCjl48CBVq1bl1Vdfpf7TtXn/ldlUe6EW3pky2I6mlEoDMmTIwIwZM/jqq6+4cuUKVapUITQ0VBsIpiCbBUAYUExEComIN9AGWHPXNmuATrG9AaoAF40xJ0XER0QyAYiID1AH2JOa4d2FMYaFCxdSoUIFDuw7wMTWI3nt5eHkLVkoVQf3WTJ0HxtnufHgIe+9B3Pm2E6hVIqrVasWP/30E61atWL06NE8//zzHDp0yHasNMlaAWCMiQKCgI3APmClMWaviASKSGDsZuuBw0Ak8BZws8NoHmCbiPwI7ADWGWO09Ugy++WXX2jQoAGBgYGUL1ia5QFzaVS7CRlypf6g/CUK/E35Ym58X7BkSShWzHYKpVJFtmzZ+OCDD1i+fDl79+6lQoUKzJo1ixs3btiOlqboQEDqXy5cuMD48eOZO3cuGbwz0PP59rSp9TI+ebJYy/Tnn1C4MOTJYy2CfWfPQpUqOhCQcitHjx6lR48ebNy4keLFizNt2jQaNmyoMwsmkNMOBKScS1RUFPPmzaNYsWLMmjWLxv51WBm0kC6tulk9+QNM/rAAQ+YUsJrBqtBQmD3bdgqlUp2vry8bNmzgiy++wBhD48aNqVu3Lnv26F3fh6UFgAJg48aNlC9fnqCgIIrkLsiygNmM7TiSgmWL45nO03Y81nyXi/c3unEvjlWrQPtIKzclIjRs2JA9e/Ywa9YswsPDKV++PL1790a7dyedFgBubv/+/TRs2JB69epx+cIlXm8zmnldp+BX7VnSZ9YW/kop55EuXTr69+/PwYMH6dOnD4sWLaJYsWJMnz6d69ev247ncrQAcFM7d+6kXbt2lClThm/+byv96/Xgw17zaVC3CT6PZbUdTyml7ilHjhzMmTOH3bt3U7VqVYYMGULRokWZMWMGly5dsh3PZWgB4EaMMWzYsIFatWrh5+fH2s/X0uaZZnzcdzHdX36FbIUe09H8lFIuo2TJkqxbt46NGzdSuHBhBg8ejK+vL8HBwZw4cfewMupu+tfeDVy/fp2lS5dSrlw5GjRowM8/7qVf3e6sHfQuw7sOpUDpIng5wX1+pZRKijp16rBlyxa2b99OnTp1mDp1KgULFqRr167s3bvXdjynpQVAGnb+/Hlef/11ChUqRNeuXbn+1zVCWgzms/5L6NE6gDzFn8DL28t2TKWUShaVKlVi5cqVHDx4kJ49e7Jy5UrKlClDgwYN+Oqrr4iJibEd0anoX/805p9//mHNmjUsX76cDRs2EBUVReXifgzv2Itnyz7DI3myIB6u13+2uO8V0nvbTmFRiRKgQ6IqlSCFCxdm7ty5jBs3jjfffJO5c+dSu3ZtfH19adeuHe3bt6ds2bK2Y1qnAwGlAdHR0WzevJnly5fz6aefcunSJfLkyEPtktWoX74WpUuVxTtzRtsxH4oOBIQOBKRUEl29epXVq1fz/vvv8+WXXxIdHU25cuXo0KEDbdu2JX/+/LYjppj7DQSkBYCLio6OJiIigpUrV/LBBx9w8uRJMvk8Ss3S1alTsjpPl/QjY+5sqTpef0rSAgAtAJRKBmfPnmXlypW8//77/PDDD4gIL7zwAu3bt6dRo0bkSWN/ZLQAiOXqBcDx48fZuHEjGzdu5KuvvuKPP/4gnVc6qpaoRJ1Sz1G99LNkfTwnnhnS2Y6a7LQAQAsApZJZZGQkH3zwAe+//z4HDx4EoEKFCtStW5e6devy7LPPkj59esspH44WALFcrQD4559/+Oabb26d9G+2Zs2dLReVClegcqGneKbE0+T2zYfXI2n7Bnmpjn4AmHA3nSPcP/b/74ULWgAolcyMMezatYsvv/ySjRs38u233xIVFYWPjw8vvPDCrYKgWLFiLjcHgRYAsZy5AIiJieHAgQPs2LGDsLAwduzYwa5du7hx4wbe6bx5qkg5Kj9RnipF/XiyYHG8s/u4VQt+LQC0AFAqtVy6dIktW7bc+vIVGRkJQN68eXn66aepVKkSlSpVwt/fn+zZs1tOe3/3KwDc5wziRG7cuMHhw4fZs2cPYWFhhIWFER4ezl9//QWAT8ZHKJW/OG0qN8WvUDn8ilYgc54cpPNx7UtRSinlCjJlykTjxo1p3LgxAIcPH2bTpk18//337Nixg7Vr197atmjRorcKgooVK1KiRAly5XKNeUv0CkAKunjxIgcOHGD//v23ln379hEZGUlUbJeudF5ePJmvKCXyFKV0vmKUyl+cwr6FyZDl0TR/WT8x9AqAXgFQyllcvHiRiIgIduzYcWs5fvz4rddz5MhBiRIl/rUULFgQL6/U/d6tVwBSQFRUFCdPnuT333/n6NGj8T6eP3/+1vZenl745s7PE9nzUfmZchTM5UvBnL4Uf+JJHsmWmXQ+6V2yf75SSrmbLFmyULNmTWrWrHlr3YkTJ/jpp59ufdHbv38/a9euZfHixbe2SZcuHfnz58fX15cCBQrE+5glS5ZUa2dgtQAQkXrAbMATeNsYM/mu1yX29QbA30AXY8zOhOyb0nx9fTl16tQd6zI98ih5suYmT6acPFe4Mo9XzOM40efyxfexAmTI9AieGb2dYnpdpZRSyefxxx/n8ccfp169enes/+OPP25dCT5w4MCtL4jffPMNx48fv3U1+KZp06YxePDgVMlsrQAQEU9gHlAbOAaEicgaY8zPcTarDxSLXSoDbwKVE7hvigoeGsyZb34lT+ac5MmSi8dyPUamzFnwzJAOz/TpdFIdpZRSZM+enWeeeYZnnnnmX69FR0dz6tSpO64ev/DCC6mWzeYVgEpApDHmMICIrACaAnFP4k2BZcbRUOEHEckqIo8BBROwb4oKfCWQ3X9vJv3j2f71WkxMDDHXdczp5DS01WFy58J9h8MNDoYrV2ynUEolI09PT/Lly0e+fPmoUqVKqn++zQIgH3A0zvNjOL7lP2ibfAncFwARCQACAAoUKPBwiePw9PbEO3cWov78O9neU91b2ypHKFgIx40gd1SnDnh5Qbq0N8iTUsoOmwVAfK0c7u6ScK9tErKvY6Uxi4BF4OgFkJiA9+OVwYtyAf++pKOUUkq5ApsFwDHAN87z/MCJBG7jnYB9VRqyaJHjMSDAbg5r3P4AKKWSm7VxAETEC/gFqAUcB8KAdsaYvXG2aQgE4egFUBmYY4yplJB94+PMIwGq+7vZK8aNhq24k9sfAKVUUjjlOADGmCgRCQI24ujKt8QYs1dEAmNfXwCsx3Hyj8Rx97fr/fa18GsopZRSLklHAlQuwe2/ALv9AVBKJcX9rgBoZ3WllFLKDWkBoJRSSrkhLQCUUkopN6QFgFJKKeWG3KoRoIicBY4k41vmBM4l4/u5Oj0et+mxuJMej9v0WNxJj8edkvt4PGGMyRXfC25VACQ3EQm/V+tKd6TH4zY9FnfS43GbHos76fG4U2oeD70FoJRSSrkhLQCUUkopN6QFwMNZZDuAk9HjcZseizvp8bhNj8Wd9HjcKdWOh7YBUEoppdyQXgFQSiml3JAWAEoppZQb0gLgIYnIeBH5SUR2icgmEXncdiZbRGSqiOyPPR6rRCSr7Uw2iUgrEdkrIjEi4pbdnESknogcEJFIEQm2nccmEVkiImdEZI/tLM5ARHxFZLOI7Iv9f9LfdiZbRCSDiOwQkR9jj8WrqfK52gbg4YhIZmPMX7E/9wNKGWMCLceyQkTqAF/HTtc8BcAYM9xyLGtEpCQQAywEhhhj3GoqShHxBH4BagPHgDCgrTHmZ6vBLBGR54DLwDJjTBnbeWwTkceAx4wxO0UkExABNHPHfx8iIoCPMeayiKQDtgH9jTE/pOTn6hWAh3Tz5B/LB3DbisoYs8kYExX79Acgv808thlj9hljDtjOYVElINIYc9gYcx1YATS1nMkaY8xW4A/bOZyFMeakMWZn7M+XgH1APrup7DAOl2OfpotdUvxcogVAMhCRUBE5CrQHxtrO4yS6ARtsh1BW5QOOxnl+DDf9A6/uT0QKAk8B2y1HsUZEPEVkF3AG+I8xJsWPhRYACSAiX4nInniWpgDGmFHGGF9gORBkN23KetCxiN1mFBCF43ikaQk5Hm5M4lnntlfIVPxE5FHgU2DAXVdU3YoxJtoYUwHHldNKIpLit4m8UvoD0gJjzIsJ3PQDYB0QkoJxrHrQsRCRzkAjoJZxgwYmifi34Y6OAb5xnucHTljKopxQ7P3uT4HlxpjPbOdxBsaYP0VkC1APSNEGo3oF4CGJSLE4T5sA+21lsU1E6gHDgSbGmL9t51HWhQHFRKSQiHgDbYA1ljMpJxHb8G0xsM8YM8N2HptEJNfNXlMikhF4kVQ4l2gvgIckIp8CxXG09j4CBBpjjttNZYeIRALpgfOxq35w1x4RACLSHJgL5AL+BHYZY+paDZXKRKQBMAvwBJYYY0LtJrJHRD4EXsAx3etpIMQYs9hqKItEpBrwDbAbx99PgJHGmPX2UtkhIuWAd3H8P/EAVhpjXkvxz9UCQCmllHI/egtAKaWUckNaACillFJuSAsApZRSyg1pAaCUUkq5IS0AlFJKKTekBYBSSinlhrQAUEoppdyQFgBKKaWUG9ICQCmV7ESkqIjcEJFX71r/pohcEhF/W9mUUg5aACilkp0xJhJ4GxgoIjkBRGQsjmmimxtjwm3mU0rpUMBKqRQiInmBQ8B8HBObLALaGmNWWg2mlAJ0OmClVAoxxpwSkVnAYBx/a/rpyV8p56G3AJRSKekgjhkivzfGzLMdRil1mxYASqkUISI1gYXA90BVESlvOZJSKg4tAJRSyU5EKgKrcTQEfAH4HZhoMZJS6i5aACilkpWIFAU2AJuAvsaY68CrQAMRec5qOKXULdoLQCmVbGJb/n+H4xt/XWPMtdj1nsAe4IIx5lmLEZVSsbQAUEoppdyQ3gJQSiml3JAWAEoppZQb0gJAKaWUckNaACillFJuSAsApZRSyg1pAaCUUkq5IS0AlFJKKTekBYBSSinlhv4fNHgP0ZLfgTwAAAAASUVORK5CYII=\n",
      "text/plain": [
       "<Figure size 576x288 with 1 Axes>"
      ]
     },
     "metadata": {
      "needs_background": "light"
     },
     "output_type": "display_data"
    }
   ],
   "source": [
    "asy_mean_test(-diff, diff_std, mu_0=0, alpha=0.05) "
   ]
  },
  {
   "cell_type": "markdown",
   "id": "481d426a",
   "metadata": {},
   "source": [
    "Вычисленное нами значение попало в интервал для H0. Нулевая гипотеза не отвергается."
   ]
  },
  {
   "cell_type": "markdown",
   "id": "ac35ccd9",
   "metadata": {},
   "source": [
    "Если предполгать, что дисперсии нам неизвестны, то нужно использовать t-test."
   ]
  },
  {
   "cell_type": "code",
   "execution_count": 85,
   "id": "c3805b9a",
   "metadata": {},
   "outputs": [
    {
     "data": {
      "text/plain": [
       "0.7539490769926688"
      ]
     },
     "execution_count": 85,
     "metadata": {},
     "output_type": "execute_result"
    },
    {
     "data": {
      "image/png": "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\n",
      "text/plain": [
       "<Figure size 576x288 with 1 Axes>"
      ]
     },
     "metadata": {
      "needs_background": "light"
     },
     "output_type": "display_data"
    }
   ],
   "source": [
    "alpha = 0.05 # аналогичное вычиление дисперсии и разницы средних для t-testа\n",
    "\n",
    "diff = cnt_1718-cnt_2223\n",
    "nx, ny = 98, 98\n",
    "sigma_std=((nx-1)*std_1718**2 + (ny-1)*std_2223**2)/ (nx+ny-2)\n",
    "diff_std = np.sqrt(sigma_std * ((1/nx) + (1/ny)))\n",
    "                                   \n",
    "asy_mean_test(-diff, diff_std, mu_0=0, alpha=0.05, margin=5)"
   ]
  },
  {
   "cell_type": "markdown",
   "id": "06e1bc47",
   "metadata": {},
   "source": [
    "__Вывод:__нулевая гипотеза не отвергается, математическое ожидание посещаемости матчей в 2017-2018 год действительно равно математическому ожиданию в 22-23 годах. Выходит, что ковидные годы не повлияли на посещаемость футбольный матчей рассматриваемых команд."
   ]
  },
  {
   "cell_type": "markdown",
   "id": "e50f29ba",
   "metadata": {},
   "source": [
    "Теперь посмотрим на то, как распределена величина G-xG (забитые голы - ожидаемые). Мы предполагаем, что данная величина будет распределена нормально - где-то забили больше, чем ожидалось, а где-то - меньше. Проверим данную гипотезу с помощью с теста Колмогорова."
   ]
  },
  {
   "cell_type": "markdown",
   "id": "f2bd0f63",
   "metadata": {},
   "source": [
    "<br>_2):_</br>\n",
    "- H0: Признак G-xG распределен нормально\n",
    "- H1: Распределение признака не соответствует нормальному"
   ]
  },
  {
   "cell_type": "code",
   "execution_count": 66,
   "id": "b737cb94",
   "metadata": {},
   "outputs": [
    {
     "data": {
      "text/html": [
       "<div>\n",
       "<style scoped>\n",
       "    .dataframe tbody tr th:only-of-type {\n",
       "        vertical-align: middle;\n",
       "    }\n",
       "\n",
       "    .dataframe tbody tr th {\n",
       "        vertical-align: top;\n",
       "    }\n",
       "\n",
       "    .dataframe thead th {\n",
       "        text-align: right;\n",
       "    }\n",
       "</style>\n",
       "<table border=\"1\" class=\"dataframe\">\n",
       "  <thead>\n",
       "    <tr style=\"text-align: right;\">\n",
       "      <th></th>\n",
       "      <th>Expected: G-xG</th>\n",
       "    </tr>\n",
       "  </thead>\n",
       "  <tbody>\n",
       "    <tr>\n",
       "      <th>0</th>\n",
       "      <td>13.3</td>\n",
       "    </tr>\n",
       "    <tr>\n",
       "      <th>1</th>\n",
       "      <td>12.1</td>\n",
       "    </tr>\n",
       "    <tr>\n",
       "      <th>2</th>\n",
       "      <td>-11.7</td>\n",
       "    </tr>\n",
       "    <tr>\n",
       "      <th>3</th>\n",
       "      <td>-8.0</td>\n",
       "    </tr>\n",
       "    <tr>\n",
       "      <th>4</th>\n",
       "      <td>-1.6</td>\n",
       "    </tr>\n",
       "    <tr>\n",
       "      <th>...</th>\n",
       "      <td>...</td>\n",
       "    </tr>\n",
       "    <tr>\n",
       "      <th>583</th>\n",
       "      <td>-6.7</td>\n",
       "    </tr>\n",
       "    <tr>\n",
       "      <th>584</th>\n",
       "      <td>1.2</td>\n",
       "    </tr>\n",
       "    <tr>\n",
       "      <th>585</th>\n",
       "      <td>3.4</td>\n",
       "    </tr>\n",
       "    <tr>\n",
       "      <th>586</th>\n",
       "      <td>-3.0</td>\n",
       "    </tr>\n",
       "    <tr>\n",
       "      <th>587</th>\n",
       "      <td>-6.3</td>\n",
       "    </tr>\n",
       "  </tbody>\n",
       "</table>\n",
       "<p>588 rows × 1 columns</p>\n",
       "</div>"
      ],
      "text/plain": [
       "     Expected: G-xG\n",
       "0              13.3\n",
       "1              12.1\n",
       "2             -11.7\n",
       "3              -8.0\n",
       "4              -1.6\n",
       "..              ...\n",
       "583            -6.7\n",
       "584             1.2\n",
       "585             3.4\n",
       "586            -3.0\n",
       "587            -6.3\n",
       "\n",
       "[588 rows x 1 columns]"
      ]
     },
     "execution_count": 66,
     "metadata": {},
     "output_type": "execute_result"
    }
   ],
   "source": [
    "G_xG=df['Expected: G-xG']\n",
    "G_xG=pd.DataFrame(G_xG)\n",
    "G_xG.reset_index(drop=True, inplace=True)\n",
    "G_xG"
   ]
  },
  {
   "cell_type": "code",
   "execution_count": 79,
   "id": "1a218d00",
   "metadata": {},
   "outputs": [
    {
     "data": {
      "text/plain": [
       "KstestResult(statistic=0.0470992451488873, pvalue=0.14260270173897271)"
      ]
     },
     "execution_count": 79,
     "metadata": {},
     "output_type": "execute_result"
    }
   ],
   "source": [
    "from scipy.stats import kstest\n",
    "alpha=0.05\n",
    "#используем критерий Колмогорова\n",
    "kstest(df['Expected: G-xG'], 'norm', args=(df['Expected: G-xG'].mean(), df['Expected: G-xG'].std(ddof=1)))"
   ]
  },
  {
   "cell_type": "markdown",
   "id": "6bc9f2b2",
   "metadata": {},
   "source": [
    "__Вывод:__\n",
    "pvalue> alpha, поэтому гипотеза о нормальности распредления признака не отвергается. Выходит, что мы были правы. Возможно, данный признак изначально строится футбольными аналитиками как выборка из нормального распределения."
   ]
  },
 
